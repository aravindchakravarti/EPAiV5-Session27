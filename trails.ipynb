{
 "cells": [
  {
   "cell_type": "code",
   "execution_count": 1,
   "metadata": {},
   "outputs": [],
   "source": [
    "import numpy as np\n",
    "import torch\n",
    "import torch.nn as nn\n",
    "import time"
   ]
  },
  {
   "cell_type": "code",
   "execution_count": null,
   "metadata": {},
   "outputs": [],
   "source": [
    "def conv1d_naive(input_signal, kernel, padding=0, stride=1):\n",
    "    input_len = len(input_signal)\n",
    "    kernel_len = len(kernel)\n",
    "\n",
    "    padded_input = np.pad(input_signal, (padding, padding), 'constant')\n",
    "\n",
    "    "
   ]
  },
  {
   "cell_type": "code",
   "execution_count": 2,
   "metadata": {},
   "outputs": [],
   "source": [
    "# Example usage\n",
    "input_signal = np.array([1, 2, 3, 4, 5, 6, 7, 8, 9, 10])\n",
    "kernel_1d = np.array([1, 0, -1])\n",
    "\n",
    "print(\"Input Signal:\", input_signal)\n",
    "print(\"Kernel:\", kernel_1d)\n",
    "\n",
    "output_no_pad = conv1d_naive(input_signal, kernel_1d)\n",
    "print(\"Output (no padding, stride=1):\", output_no_pad)\n",
    "\n",
    "output_pad = conv1d_naive(input_signal, kernel_1d, padding=1)\n",
    "print(\"Output (padding=1, stride=1):\", output_pad)\n",
    "\n",
    "output_stride = conv1d_naive(input_signal, kernel_1d, stride=2)\n",
    "print(\"Output (no padding, stride=2):\", output_stride)\n"
   ]
  },
  {
   "cell_type": "code",
   "execution_count": null,
   "metadata": {},
   "outputs": [],
   "source": []
  }
 ],
 "metadata": {
  "kernelspec": {
   "display_name": "general",
   "language": "python",
   "name": "python3"
  },
  "language_info": {
   "codemirror_mode": {
    "name": "ipython",
    "version": 3
   },
   "file_extension": ".py",
   "mimetype": "text/x-python",
   "name": "python",
   "nbconvert_exporter": "python",
   "pygments_lexer": "ipython3",
   "version": "3.12.5"
  }
 },
 "nbformat": 4,
 "nbformat_minor": 2
}
